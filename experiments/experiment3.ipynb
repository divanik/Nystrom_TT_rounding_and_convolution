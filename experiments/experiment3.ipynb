{
 "cells": [
  {
   "cell_type": "code",
   "execution_count": 1,
   "metadata": {},
   "outputs": [],
   "source": [
    "%load_ext autoreload"
   ]
  },
  {
   "cell_type": "code",
   "execution_count": 6,
   "metadata": {},
   "outputs": [],
   "source": [
    "import sys\n",
    "sys.path.insert(0, '/home/divanik/CourseWork/Nystrom_TT_rounding_and_convolution')"
   ]
  },
  {
   "cell_type": "code",
   "execution_count": 3,
   "metadata": {},
   "outputs": [],
   "source": [
    "import tt\n",
    "import numpy as np\n",
    "import time"
   ]
  },
  {
   "cell_type": "code",
   "execution_count": 5,
   "metadata": {},
   "outputs": [],
   "source": [
    "def create_inverse_index_sums_tensorized(n, d, QTT_d, eps=1e-10):\n",
    "    nats = tt.vector.to_list(tt.xfun(n, QTT_d))\n",
    "    base = tt.vector.to_list(tt.ones(n, QTT_d * d))\n",
    "    X = []\n",
    "    for i in range(d):\n",
    "        tmp = base.copy()\n",
    "        for j in range(QTT_d):\n",
    "            tmp[i * QTT_d + j] = nats[j].copy()\n",
    "        X.append(tt.vector.from_list(tmp))\n",
    "    c = tt.multifuncrs2(X, lambda x: 1 / (1 + np.sum(x, axis = 1)), eps=eps, verb=0)\n",
    "    return c"
   ]
  },
  {
   "cell_type": "code",
   "execution_count": null,
   "metadata": {},
   "outputs": [],
   "source": [
    "import numpy as np\n",
    "import tt\n",
    "import experiments_stuff\n",
    "from bilinear_package.src import primitives\n",
    "from bilinear_package.src.hadamard_product import generalizedApproximateHadamardProduct\n",
    "from bilinear_package.src.convolution import (\n",
    "    approximateConvolution,\n",
    "    preciseConvolution,\n",
    "    countFourier,\n",
    "    countInverseFourier,\n",
    "    approximateCycleConvolution,\n",
    ")\n",
    "import time\n",
    "\n",
    "\n",
    "from newton_experiment_primitives import create_exponential_grid, create_newtonial_potential_grid\n",
    "\n",
    "from bilinear_package.src.convolution import preciseCycleConvolution\n",
    "from newton_experiment_primitives import interpolateTTTensor, compressTTTensor\n",
    "import pandas as pd\n",
    "\n",
    "D = 40\n",
    "\n",
    "df_time = pd.DataFrame()\n",
    "df_precision = pd.DataFrame()\n",
    "\n",
    "for d in range(3, 6):\n",
    "    for grid_side in np.logspace(7, 10, 7, base=2, dtype=int):\n",
    "        grid_size = 8 * (grid_side // 8)\n",
    "        h = (2 * D) / grid_side\n",
    "        tensor1 = create_exponential_grid(d, grid_side + 2, D + h / 2)\n",
    "        tensor2 = create_newtonial_potential_grid(d, 2 * grid_side + 2, h * grid_side + h / 2)\n",
    "        tensor1 = primitives.twoSidedPaddingTTTensor(tensor1, [(0, grid_side) for _ in range(d)])\n",
    "        print(tt.vector.from_list(tensor1))\n",
    "        print(tt.vector.from_list(tensor2))\n",
    "        precise = preciseCycleConvolution(tensor1, tensor2)\n",
    "        precise = primitives.twoSidedCuttingTTTensor(precise, [(0, grid_side + 1) for _ in range(d)])\n",
    "        precise = tt.vector.from_list(precise)\n",
    "        precise_norm = tt.vector.norm(precise)\n",
    "        time1 = time.time()\n",
    "        answer1 = approximateCycleConvolution(\n",
    "            tensor1, tensor2, desired_ranks=np.ones(d - 1, dtype=int) * 30, seed=271 * d + grid_side\n",
    "        )\n",
    "        answer1 = primitives.twoSidedCuttingTTTensor(answer1, [(0, grid_side + 1) for _ in range(d)])\n",
    "        time2 = time.time()\n",
    "        answer2 = precise.round(0, 30)\n",
    "        time3 = time.time()\n",
    "        tensor1_ = tt.vector.from_list(countFourier(tensor1))\n",
    "        tensor2_ = tt.vector.from_list(countFourier(tensor2))\n",
    "        multifunc = tt.multifuncrs2([tensor1_, tensor2_], lambda x: x[:, 0] * x[:, 1], eps=1e-6, verb=0)\n",
    "        answer3 = countInverseFourier(tt.vector.to_list(multifunc))\n",
    "        answer3 = primitives.twoSidedCuttingTTTensor(answer1, [(0, grid_side + 1) for _ in range(d)])\n",
    "        time4 = time.time()\n",
    "        answer4 = approximateCycleConvolution(\n",
    "            tensor1, tensor2, desired_ranks=np.ones(d - 1, dtype=int) * 30, seed=271 * d + grid_side\n",
    "        )\n",
    "        answer4 = primitives.twoSidedCuttingTTTensor(answer4, [(0, grid_side + 1) for _ in range(d)])\n",
    "        time5 = time.time()\n",
    "        df_time[f\"{d}_{grid_side}\"] = [time2 - time1, time3 - time2, time4 - time3]\n",
    "        precision1 = tt.vector.norm(precise - tt.vector.from_list(answer1)) / precise_norm\n",
    "        precision2 = tt.vector.norm(precise - answer2) / precise_norm\n",
    "        precision3 = tt.vector.norm(precise - tt.vector.from_list(answer3)) / precise_norm\n",
    "        df_precision[f\"{d}_{grid_side}\"] = [precision1, precision2, precision3]\n",
    "        df_time.to_csv(\"experiments_results/experiment4/time\")\n",
    "        df_precision.to_csv(\"experiments_results/experiment4/precision\")\n",
    "        print(f\"{d}_{grid_side}\")\n"
   ]
  }
 ],
 "metadata": {
  "kernelspec": {
   "display_name": "base",
   "language": "python",
   "name": "python3"
  },
  "language_info": {
   "codemirror_mode": {
    "name": "ipython",
    "version": 3
   },
   "file_extension": ".py",
   "mimetype": "text/x-python",
   "name": "python",
   "nbconvert_exporter": "python",
   "pygments_lexer": "ipython3",
   "version": "3.9.12"
  },
  "orig_nbformat": 4
 },
 "nbformat": 4,
 "nbformat_minor": 2
}
