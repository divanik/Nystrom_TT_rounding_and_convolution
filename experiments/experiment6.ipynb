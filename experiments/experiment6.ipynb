{
 "cells": [
  {
   "cell_type": "code",
   "execution_count": 1,
   "metadata": {},
   "outputs": [],
   "source": [
    "%load_ext autoreload"
   ]
  },
  {
   "cell_type": "code",
   "execution_count": null,
   "metadata": {},
   "outputs": [],
   "source": [
    "import sys\n",
    "sys.path.insert(0, '/home/divanik/Desktop/CourseWork/Nystrom_TT_rounding_and_convolution') # Path to repository root"
   ]
  },
  {
   "cell_type": "code",
   "execution_count": null,
   "metadata": {},
   "outputs": [],
   "source": [
    "import tt\n",
    "import numpy as np\n",
    "import time"
   ]
  },
  {
   "cell_type": "code",
   "execution_count": null,
   "metadata": {},
   "outputs": [],
   "source": [
    "def count_time(timed_dict, streams):\n",
    "    time1 = timed_dict['left_random'] + timed_dict['left_contraction']\n",
    "    time2 = timed_dict['right_random'] + timed_dict['right_contraction']\n",
    "    def take_div(div, mod, lst):\n",
    "        answer = 0\n",
    "        for i in range(mod, len(lst), div):\n",
    "            answer += lst[i]\n",
    "        return answer\n",
    "    time1 += take_div(2, 0, timed_dict['psi']) + take_div(2, 0, timed_dict['phi']) + take_div(2, 0, timed_dict['invert'])\n",
    "    time2 += take_div(2, 1, timed_dict['psi']) + take_div(2, 1, timed_dict['phi']) + take_div(2, 1, timed_dict['invert'])\n",
    "    if streams == 1:\n",
    "        return time1 + time2\n",
    "    elif streams == 2:\n",
    "        return max(time1, time2)\n",
    "    else:\n",
    "        raise \"Emulation is not implemented\""
   ]
  },
  {
   "cell_type": "code",
   "execution_count": null,
   "metadata": {},
   "outputs": [],
   "source": [
    "def count_time(timed_dict, streams):\n",
    "    time1 = timed_dict['left_random'] + timed_dict['left_contraction']\n",
    "    time2 = timed_dict['right_random'] + timed_dict['right_contraction']\n",
    "    def take_div(div, mod, lst):\n",
    "        answer = 0\n",
    "        for i in range(mod, len(lst), div):\n",
    "            answer += lst[i]\n",
    "        return answer\n",
    "    time1 += take_div(2, 0, timed_dict['psi']) + take_div(2, 0, timed_dict['phi']) + take_div(2, 0, timed_dict['invert'])\n",
    "    time2 += take_div(2, 1, timed_dict['psi']) + take_div(2, 1, timed_dict['phi']) + take_div(2, 1, timed_dict['invert'])\n",
    "    if streams == 1:\n",
    "        return time1 + time2\n",
    "    elif streams == 2:\n",
    "        return max(time1, time2)\n",
    "    else:\n",
    "        raise \"Emulation is not implemented\""
   ]
  }
 ],
 "metadata": {
  "kernelspec": {
   "display_name": "base",
   "language": "python",
   "name": "python3"
  },
  "language_info": {
   "codemirror_mode": {
    "name": "ipython",
    "version": 3
   },
   "file_extension": ".py",
   "mimetype": "text/x-python",
   "name": "python",
   "nbconvert_exporter": "python",
   "pygments_lexer": "ipython3",
   "version": "3.9.12"
  },
  "orig_nbformat": 4
 },
 "nbformat": 4,
 "nbformat_minor": 2
}
