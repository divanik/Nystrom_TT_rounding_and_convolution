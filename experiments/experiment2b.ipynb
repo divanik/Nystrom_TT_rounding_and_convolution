{
 "cells": [
  {
   "cell_type": "code",
   "execution_count": 1,
   "metadata": {},
   "outputs": [],
   "source": [
    "%load_ext autoreload"
   ]
  },
  {
   "cell_type": "code",
   "execution_count": 2,
   "metadata": {},
   "outputs": [],
   "source": [
    "import sys\n",
    "sys.path.insert(0, '/home/divanik/CourseWork/Nystrom_TT_rounding_and_convolution') # Path to repository root"
   ]
  },
  {
   "cell_type": "code",
   "execution_count": 3,
   "metadata": {},
   "outputs": [],
   "source": [
    "import numpy as np\n",
    "import tt\n",
    "from algorithms_package.src import primitives\n",
    "from algorithms_package.src.hadamard_product import generalizedApproximateHadamardProduct\n",
    "from algorithms_package.src.convolution import (\n",
    "    approximateConvolution,\n",
    "    preciseConvolution,\n",
    "    countFourier,\n",
    "    countInverseFourier,\n",
    "    approximateCycleConvolution,\n",
    "    approximateTwoSidedCycleConvolution\n",
    ")\n",
    "import time\n",
    "\n",
    "\n",
    "from newton_experiment_primitives import create_exponential_grid, create_newtonial_potential_grid\n",
    "\n",
    "from algorithms_package.src.convolution import preciseCycleConvolution\n",
    "from newton_experiment_primitives import interpolateTTTensor, compressTTTensor\n",
    "import pandas as pd\n",
    "import numpy as np"
   ]
  },
  {
   "cell_type": "code",
   "execution_count": 4,
   "metadata": {},
   "outputs": [],
   "source": [
    "D = 40"
   ]
  },
  {
   "cell_type": "code",
   "execution_count": 5,
   "metadata": {},
   "outputs": [],
   "source": [
    "# for d in range(4, 7):\n",
    "#     for grid_side in np.logspace(6, 9, 7, base=2, dtype=int):\n",
    "#         grid_side = 8 * (grid_side // 8)\n",
    "#         print(grid_side)\n",
    "#         h = (2 * D) / grid_side\n",
    "#         tensor1 = create_exponential_grid(d, grid_side + 2, D + h / 2, eps=1e-12)\n",
    "#         tensor2 = create_newtonial_potential_grid(d, 2 * grid_side + 2, h * grid_side + h / 2, eps=1e-12)\n",
    "#         tensor1 = primitives.twoSidedPaddingTTTensor(tensor1, [(0, grid_side) for _ in range(d)])\n",
    "#         print(tt.vector.from_list(tensor1))\n",
    "#         print(tt.vector.from_list(tensor2))\n",
    "#         precise = preciseCycleConvolution(tensor1, tensor2)\n",
    "#         precise = primitives.twoSidedCuttingTTTensor(precise, [(0, grid_side + 1) for _ in range(d)])\n",
    "#         rounded = tt.vector.from_list(precise).round(0, 180)\n",
    "#         print(tt.vector.norm(tt.vector.from_list(precise) - rounded))\n",
    "#         norm = tt.vector.norm(rounded)\n",
    "#         del(precise)\n",
    "#         for rank in range(10, 31, 4):\n",
    "#             convolution = approximateTwoSidedCycleConvolution(tensor1, tensor2, 5 * [rank], 5 * [rank], 10, True)\n",
    "#             convolution = primitives.twoSidedCuttingTTTensor(convolution, [(0, grid_side + 1) for _ in range(d)])\n",
    "#             print(tt.vector.norm(tt.vector.from_list(convolution) - rounded) / norm)"
   ]
  },
  {
   "cell_type": "code",
   "execution_count": 6,
   "metadata": {},
   "outputs": [],
   "source": [
    "current_ranks = {\n",
    "    3 : range(10, 31, 4),\n",
    "    4 : range(10, 41, 4)\n",
    "}"
   ]
  },
  {
   "cell_type": "code",
   "execution_count": 7,
   "metadata": {},
   "outputs": [
    {
     "name": "stdout",
     "output_type": "stream",
     "text": [
      "kek\n",
      "Skip: start algos:\n",
      "3 0 10 9.486285865183885e-05\n",
      "3 0 14 9.375340572724774e-06\n",
      "3 0 18 2.315115929754938e-07\n",
      "3 0 22 1.6443935890699065e-08\n",
      "3 0 26 1.0122824087492077e-08\n",
      "3 0 30 1.008803148369878e-08\n",
      "3 1 10 5.928674588010912e-05\n",
      "3 1 14 3.231908837808351e-06\n",
      "3 1 18 1.3771863784758037e-07\n",
      "3 1 22 1.2215625772787854e-08\n",
      "3 1 26 1.0140837653580532e-08\n",
      "3 1 30 1.0092635277688936e-08\n",
      "3 3 10 2.0387448427030395e-05\n",
      "3 3 14 9.073405611194495e-07\n",
      "3 3 18 7.251384364373282e-08\n",
      "3 3 22 1.0427235382882483e-08\n",
      "3 3 26 1.0090697409885219e-08\n",
      "3 3 30 1.008863041037763e-08\n",
      "3 5 10 1.9774783355523854e-05\n",
      "3 5 14 9.106871234549841e-07\n",
      "3 5 18 3.605664716638592e-08\n",
      "3 5 22 1.0536317563463993e-08\n",
      "3 5 26 1.0101962547800972e-08\n",
      "3 5 30 1.0089298278896466e-08\n",
      "3 7 10 1.975202384404048e-05\n",
      "3 7 14 8.771381196582047e-07\n",
      "3 7 18 3.660462855312191e-08\n",
      "3 7 22 1.0286982464992743e-08\n",
      "3 7 26 1.0089877007143153e-08\n",
      "3 7 30 1.0089367118993441e-08\n",
      "kek\n",
      "Skip: start algos:\n",
      "4 0 10 0.0007112113520795678\n",
      "4 0 14 4.964263137028495e-05\n",
      "4 0 18 3.7413406326663296e-06\n",
      "4 0 22 4.0187811913777187e-07\n",
      "4 0 26 5.36337412131937e-08\n",
      "4 0 30 2.1032695993823425e-08\n",
      "4 0 34 2.1008449804324543e-08\n",
      "4 0 38 2.0975910092528e-08\n",
      "4 1 10 0.00270063109336269\n",
      "4 1 14 3.6189775445530726e-05\n",
      "4 1 18 4.386292340516764e-06\n",
      "4 1 22 3.730051571531332e-07\n",
      "4 1 26 2.6866345433316964e-08\n",
      "4 1 30 2.180229516178721e-08\n",
      "4 1 34 2.098228335691214e-08\n",
      "4 1 38 2.0982866232331605e-08\n",
      "4 3 10 0.00030424821622817725\n",
      "4 3 14 9.174642509925742e-06\n",
      "4 3 18 7.000797212574171e-07\n",
      "4 3 22 9.454530686061193e-08\n",
      "4 3 26 2.263427724509074e-08\n",
      "4 3 30 2.1076941152450206e-08\n",
      "4 3 34 2.0952528755322044e-08\n",
      "4 3 38 2.097652184474105e-08\n",
      "4 5 10 0.0003020227101732963\n",
      "4 5 14 9.389798766660726e-06\n",
      "4 5 18 6.463944752956949e-07\n",
      "4 5 22 9.581919324927533e-08\n",
      "4 5 26 2.0979057372458886e-08\n",
      "4 5 30 2.1024439519836926e-08\n",
      "4 5 34 2.0984687602982835e-08\n",
      "4 5 38 2.097906760153148e-08\n",
      "4 7 10 0.0002884867415946744\n",
      "4 7 14 9.047467158924098e-06\n",
      "4 7 18 6.514343183456515e-07\n",
      "4 7 22 9.696349793742982e-08\n",
      "4 7 26 2.1539600154758962e-08\n",
      "4 7 30 2.099575549093911e-08\n",
      "4 7 34 2.098554031781513e-08\n",
      "4 7 38 2.098318073873857e-08\n"
     ]
    }
   ],
   "source": [
    "answer = []\n",
    "\n",
    "for d in range(3, 5):\n",
    "    grid_side = 300\n",
    "    h = (2 * D) / grid_side\n",
    "    print(\"kek\")\n",
    "    tensor1 = create_exponential_grid(d, grid_side + 2, D + h / 2, eps=1e-12)\n",
    "    tensor2 = create_newtonial_potential_grid(d, 2 * grid_side + 2, h * grid_side + h / 2, eps=1e-12)\n",
    "    tensor1 = primitives.twoSidedPaddingTTTensor(tensor1, [(0, grid_side) for _ in range(d)])\n",
    "    precise = preciseCycleConvolution(tensor1, tensor2)\n",
    "    precise = primitives.twoSidedCuttingTTTensor(precise, [(0, grid_side + 1) for _ in range(d)])\n",
    "    rounded = tt.vector.from_list(precise).round(0, 100)\n",
    "    norm = tt.vector.norm(rounded)\n",
    "    del(precise)\n",
    "    print(\"Skip: start algos:\")\n",
    "    for oversampling in [0, 1, 3, 5, 7]:\n",
    "        for rank in current_ranks[d]:\n",
    "            rounding_rank = int(rank * 1.5)\n",
    "            convolution = approximateTwoSidedCycleConvolution(tensor1, tensor2, (d - 1) * [rank + oversampling], (d - 1) * [rounding_rank + oversampling], 1000000 * d + 1000 * oversampling + rank, True)\n",
    "            convolution = tt.vector.to_list(tt.vector.from_list(convolution).round(0, rank))\n",
    "            convolution = primitives.twoSidedCuttingTTTensor(convolution, [(0, grid_side + 1) for _ in range(d)])\n",
    "            precision = tt.vector.norm(tt.vector.from_list(convolution) - rounded) / norm\n",
    "            answer.append({'d' : d,'oversampling' : oversampling, 'rank' : rank, 'precision': precision})\n",
    "            print(d, oversampling, rank, precision)"
   ]
  }
 ],
 "metadata": {
  "kernelspec": {
   "display_name": "base",
   "language": "python",
   "name": "python3"
  },
  "language_info": {
   "codemirror_mode": {
    "name": "ipython",
    "version": 3
   },
   "file_extension": ".py",
   "mimetype": "text/x-python",
   "name": "python",
   "nbconvert_exporter": "python",
   "pygments_lexer": "ipython3",
   "version": "3.9.12"
  },
  "orig_nbformat": 4
 },
 "nbformat": 4,
 "nbformat_minor": 2
}
