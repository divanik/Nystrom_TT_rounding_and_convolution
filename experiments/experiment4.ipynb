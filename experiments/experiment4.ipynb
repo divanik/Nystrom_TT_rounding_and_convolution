{
 "cells": [
  {
   "cell_type": "code",
   "execution_count": 1,
   "metadata": {},
   "outputs": [],
   "source": [
    "%load_ext autoreload"
   ]
  },
  {
   "cell_type": "code",
   "execution_count": 2,
   "metadata": {},
   "outputs": [],
   "source": [
    "import sys\n",
    "import os\n",
    "\n",
    "coursework_path = '/home/divanik/CourseWork/Nystrom_TT_rounding_and_convolution'\n",
    "sys.path.insert(0, coursework_path)"
   ]
  },
  {
   "cell_type": "code",
   "execution_count": 3,
   "metadata": {},
   "outputs": [],
   "source": [
    "import tt\n",
    "import numpy as np\n",
    "import time"
   ]
  },
  {
   "cell_type": "code",
   "execution_count": 4,
   "metadata": {},
   "outputs": [],
   "source": [
    "D = 40"
   ]
  },
  {
   "cell_type": "code",
   "execution_count": 5,
   "metadata": {},
   "outputs": [],
   "source": [
    "%autoreload 2\n",
    "\n",
    "from newton_experiment_primitives import create_exponential_grid, create_newtonial_potential_grid\n",
    "\n",
    "from algorithms_package.src.convolution import preciseCycleConvolution, approximateTwoSidedConvolution, approximateTwoSidedCycleConvolution, approximateCycleConvolution\n",
    "from newton_experiment_primitives import interpolateTTTensor, compressTTTensor\n",
    "import pandas as pd\n",
    "\n",
    "from algorithms_package.src import primitives\n",
    "\n",
    "from algorithms_package.src.convolution import (\n",
    "    approximateConvolution,\n",
    "    countFourier,\n",
    "    countInverseFourier,\n",
    "    approximateTwoSidedConvolution\n",
    ")"
   ]
  },
  {
   "cell_type": "code",
   "execution_count": 39,
   "metadata": {},
   "outputs": [
    {
     "name": "stdout",
     "output_type": "stream",
     "text": [
      "This is a 3-dimensional tensor \n",
      "r(0)=1, n(0)=202 \n",
      "r(1)=23, n(1)=202 \n",
      "r(2)=23, n(2)=202 \n",
      "r(3)=1 \n",
      "\n",
      "This is a 3-dimensional tensor \n",
      "r(0)=1, n(0)=202 \n",
      "r(1)=31, n(1)=202 \n",
      "r(2)=31, n(2)=202 \n",
      "r(3)=1 \n",
      "\n",
      "This is a 3-dimensional tensor \n",
      "r(0)=1, n(0)=202 \n",
      "r(1)=713, n(1)=202 \n",
      "r(2)=713, n(2)=202 \n",
      "r(3)=1 \n",
      "\n",
      "This is a 3-dimensional tensor \n",
      "r(0)=1, n(0)=101 \n",
      "r(1)=713, n(1)=101 \n",
      "r(2)=713, n(2)=101 \n",
      "r(3)=1 \n",
      "\n",
      "This is a 3-dimensional tensor \n",
      "r(0)=1, n(0)=202 \n",
      "r(1)=23, n(1)=202 \n",
      "r(2)=23, n(2)=202 \n",
      "r(3)=1 \n",
      "\n",
      "This is a 3-dimensional tensor \n",
      "r(0)=1, n(0)=202 \n",
      "r(1)=31, n(1)=202 \n",
      "r(2)=31, n(2)=202 \n",
      "r(3)=1 \n",
      "\n",
      "This is a 3-dimensional tensor \n",
      "r(0)=1, n(0)=202 \n",
      "r(1)=33, n(1)=202 \n",
      "r(2)=33, n(2)=202 \n",
      "r(3)=1 \n",
      "\n",
      "This is a 3-dimensional tensor \n",
      "r(0)=1, n(0)=101 \n",
      "r(1)=713, n(1)=101 \n",
      "r(2)=713, n(2)=101 \n",
      "r(3)=1 \n",
      "\n",
      "This is a 3-dimensional tensor \n",
      "r(0)=1, n(0)=101 \n",
      "r(1)=33, n(1)=101 \n",
      "r(2)=33, n(2)=101 \n",
      "r(3)=1 \n",
      "\n"
     ]
    }
   ],
   "source": [
    "d = 3\n",
    "grid_side = 100\n",
    "grid_size = 8 * (grid_side // 8)\n",
    "h = (2 * D) / grid_side\n",
    "tensor1 = create_exponential_grid(d, grid_side + 2, D + h / 2, eps = 1e-15)\n",
    "tensor2 = create_newtonial_potential_grid(d, 2 * grid_side + 2, h * grid_side + h / 2, eps=5e-13)\n",
    "tensor1 = primitives.twoSidedPaddingTTTensor(tensor1, [(0, grid_side) for _ in range(d)])\n",
    "print(tt.vector.from_list(tensor1))\n",
    "print(tt.vector.from_list(tensor2))\n",
    "precise = preciseCycleConvolution(tensor1, tensor2)\n",
    "print(tt.vector.from_list(precise))\n",
    "precise = primitives.twoSidedCuttingTTTensor(precise, [(0, grid_side + 1) for _ in range(d)])\n",
    "precise = tt.vector.from_list(precise)\n",
    "print(precise)\n",
    "precise_norm = tt.vector.norm(precise)\n",
    "tensor1_ = tt.vector.from_list(countFourier(tensor1))\n",
    "tensor2_ = tt.vector.from_list(countFourier(tensor2))\n",
    "print(tensor1_)\n",
    "print(tensor2_)\n",
    "multifunc = tt.multifuncrs2([tensor1_, tensor2_], lambda x: x[:, 0] * x[:, 1], eps=1e-12, verb=0)\n",
    "print(multifunc)\n",
    "answer3 = countInverseFourier(tt.vector.to_list(multifunc))\n",
    "answer3 = primitives.twoSidedCuttingTTTensor(answer3, [(0, grid_side + 1) for _ in range(d)])\n",
    "print(precise)\n",
    "print(tt.vector.from_list(answer3))\n",
    "precision3 = tt.vector.norm(precise - tt.vector.from_list(answer3)) / precise_norm"
   ]
  },
  {
   "cell_type": "code",
   "execution_count": 9,
   "metadata": {},
   "outputs": [
    {
     "name": "stdout",
     "output_type": "stream",
     "text": [
      "(1, 202, 23)\n",
      "(23, 202, 23)\n",
      "(23, 202, 1)\n",
      "(1, 202, 31)\n",
      "(31, 202, 31)\n",
      "(31, 202, 1)\n",
      "(1, 202, 713)\n",
      "(713, 202, 713)\n",
      "(713, 202, 1)\n"
     ]
    }
   ],
   "source": [
    "d = 3\n",
    "grid_side = 100\n",
    "grid_size = 8 * (grid_side // 8)\n",
    "h = (2 * D) / grid_side\n",
    "tensor1 = create_exponential_grid(d, grid_side + 2, D + h / 2, eps = 1e-15)\n",
    "tensor2 = create_newtonial_potential_grid(d, 2 * grid_side + 2, h * grid_side + h / 2, eps=5e-13)\n",
    "tensor1 = primitives.twoSidedPaddingTTTensor(tensor1, [(0, grid_side) for _ in range(d)])\n",
    "precise = preciseCycleConvolution(tensor1, tensor2)\n",
    "precise = primitives.twoSidedCuttingTTTensor(precise, [(0, grid_side + 1) for _ in range(d)])\n",
    "precise = tt.vector.from_list(precise)\n",
    "precise_norm = tt.vector.norm(precise)\n",
    "answer4 = precise.round(0, 50)\n",
    "# answer4 = primitives.twoSidedCuttingTTTensor(answer4, [(0, grid_side + 1) for _ in range(d)])\n",
    "precision2 = tt.vector.norm(precise - answer4) / precise_norm"
   ]
  },
  {
   "cell_type": "code",
   "execution_count": 10,
   "metadata": {},
   "outputs": [
    {
     "name": "stdout",
     "output_type": "stream",
     "text": [
      "3.851248261196167e-15\n"
     ]
    }
   ],
   "source": [
    "print(precision2)"
   ]
  }
 ],
 "metadata": {
  "kernelspec": {
   "display_name": "base",
   "language": "python",
   "name": "python3"
  },
  "language_info": {
   "codemirror_mode": {
    "name": "ipython",
    "version": 3
   },
   "file_extension": ".py",
   "mimetype": "text/x-python",
   "name": "python",
   "nbconvert_exporter": "python",
   "pygments_lexer": "ipython3",
   "version": "3.9.12"
  },
  "orig_nbformat": 4
 },
 "nbformat": 4,
 "nbformat_minor": 2
}
